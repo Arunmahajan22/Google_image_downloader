{
 "cells": [
  {
   "cell_type": "code",
   "execution_count": 2,
   "id": "9ab75c88-8b55-4064-8bc3-21ed7250c4cf",
   "metadata": {},
   "outputs": [
    {
     "name": "stdout",
     "output_type": "stream",
     "text": [
      "Downloaded image: cat/cat_0.jpg\n",
      "Downloaded image: cat/cat_1.jpg\n",
      "Downloaded image: cat/cat_2.jpg\n",
      "Downloaded image: cat/cat_3.jpg\n",
      "Downloaded image: cat/cat_4.jpg\n"
     ]
    }
   ],
   "source": [
    "import requests\n",
    "from bs4 import BeautifulSoup\n",
    "import urllib.parse\n",
    "import urllib.request\n",
    "import os\n",
    "\n",
    "# Function to download images\n",
    "def download_images(query, num_images):\n",
    "    # Format the query for the URL\n",
    "    query = urllib.parse.quote_plus(query)\n",
    "\n",
    "    # Prepare the search URL\n",
    "    url = f\"https://www.google.com/search?q={query}&tbm=isch\"\n",
    "\n",
    "    # Send a GET request to the search URL\n",
    "    response = requests.get(url)\n",
    "\n",
    "    # Parse the HTML content using BeautifulSoup\n",
    "    soup = BeautifulSoup(response.content, \"html.parser\")\n",
    "\n",
    "    # Find all image elements in the HTML\n",
    "    image_elements = soup.find_all(\"img\")\n",
    "\n",
    "    # Create a directory for the downloaded images\n",
    "    os.makedirs(query, exist_ok=True)\n",
    "\n",
    "    # Download the images\n",
    "    count = 0\n",
    "    for i, image in enumerate(image_elements):\n",
    "        if count >= num_images:\n",
    "            break\n",
    "        try:\n",
    "            image_url = image[\"src\"]\n",
    "\n",
    "            # Handle relative URLs\n",
    "            if image_url.startswith(\"/\"):\n",
    "                image_url = \"https://www.google.com\" + image_url\n",
    "\n",
    "            image_name = f\"{query}/{query}_{count}.jpg\"\n",
    "            urllib.request.urlretrieve(image_url, image_name)\n",
    "            print(f\"Downloaded image: {image_name}\")\n",
    "            count += 1\n",
    "        except Exception as e:\n",
    "            print(f\"Error downloading image {i + 1}: {str(e)}\")\n",
    "\n",
    "# Example usage\n",
    "download_images(\"cat\", 5)\n",
    "\n"
   ]
  },
  {
   "cell_type": "code",
   "execution_count": null,
   "id": "a4edbc10-e04c-4754-8e62-aff86342baf3",
   "metadata": {},
   "outputs": [],
   "source": []
  }
 ],
 "metadata": {
  "kernelspec": {
   "display_name": "Python 3 (ipykernel)",
   "language": "python",
   "name": "python3"
  },
  "language_info": {
   "codemirror_mode": {
    "name": "ipython",
    "version": 3
   },
   "file_extension": ".py",
   "mimetype": "text/x-python",
   "name": "python",
   "nbconvert_exporter": "python",
   "pygments_lexer": "ipython3",
   "version": "3.12.1"
  }
 },
 "nbformat": 4,
 "nbformat_minor": 5
}
